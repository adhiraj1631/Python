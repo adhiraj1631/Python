{
 "cells": [
  {
   "cell_type": "markdown",
   "id": "aec576dc",
   "metadata": {},
   "source": [
    "### Make a Simple Calculator"
   ]
  },
  {
   "cell_type": "code",
   "execution_count": 1,
   "id": "1d00c2ec",
   "metadata": {},
   "outputs": [
    {
     "name": "stdout",
     "output_type": "stream",
     "text": [
      "Enter the operation you want to perform.Choose between 1 to 4:4\n",
      "Enter the value of a:2\n",
      "Enter the value of b:4\n",
      "The result is: 0.5\n"
     ]
    }
   ],
   "source": [
    "operation=int(input(\"Enter the operation you want to perform.Choose between 1 to 4:\"))             \n",
    "a=int(input(\"Enter the value of a:\"))\n",
    "b=int(input(\"Enter the value of b:\"))\n",
    "if operation==1:\n",
    "            add=a+b\n",
    "            print(\"The sum is:\",add)\n",
    "elif operation ==2:\n",
    "              diff=a-b\n",
    "              print(\"The difference is:\",diff)\n",
    "elif operation==3:\n",
    "              mul=a*b\n",
    "              print(\"The product is:\",mul)\n",
    "elif operation==4:\n",
    "              div=a/b\n",
    "              print(\"The result is:\",div)\n",
    "else:\n",
    "    print(\"Invalid!! Choose a number between 1 to 4.\")"
   ]
  },
  {
   "cell_type": "code",
   "execution_count": null,
   "id": "569a3652",
   "metadata": {},
   "outputs": [],
   "source": []
  }
 ],
 "metadata": {
  "kernelspec": {
   "display_name": "Python 3 (ipykernel)",
   "language": "python",
   "name": "python3"
  },
  "language_info": {
   "codemirror_mode": {
    "name": "ipython",
    "version": 3
   },
   "file_extension": ".py",
   "mimetype": "text/x-python",
   "name": "python",
   "nbconvert_exporter": "python",
   "pygments_lexer": "ipython3",
   "version": "3.10.9"
  }
 },
 "nbformat": 4,
 "nbformat_minor": 5
}
