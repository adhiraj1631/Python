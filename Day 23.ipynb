{
 "cells": [
  {
   "cell_type": "markdown",
   "id": "60e63b37",
   "metadata": {},
   "source": [
    "### Convert Decimal to Binary, Octal, Hexadecimal"
   ]
  },
  {
   "cell_type": "code",
   "execution_count": 1,
   "id": "98706242",
   "metadata": {},
   "outputs": [
    {
     "name": "stdout",
     "output_type": "stream",
     "text": [
      "Enter the number:30\n",
      "The binary number is: 0b11110\n"
     ]
    }
   ],
   "source": [
    "# decimal to binary\n",
    "\n",
    "num=int(input(\"Enter the number:\"))\n",
    "print(\"The binary number is:\",bin(num))"
   ]
  },
  {
   "cell_type": "code",
   "execution_count": 2,
   "id": "9be54f09",
   "metadata": {},
   "outputs": [
    {
     "name": "stdout",
     "output_type": "stream",
     "text": [
      "Enter the number:40\n",
      "The octal number is 0o50\n"
     ]
    }
   ],
   "source": [
    "#decimal to octal\n",
    "\n",
    "num=int(input(\"Enter the number:\"))\n",
    "print(\"The octal number is\",oct(num))"
   ]
  },
  {
   "cell_type": "code",
   "execution_count": 3,
   "id": "f88ea9a5",
   "metadata": {},
   "outputs": [
    {
     "name": "stdout",
     "output_type": "stream",
     "text": [
      "Enter the number:40\n",
      "The number is: 0x28\n"
     ]
    }
   ],
   "source": [
    "#hexadecimal to binary\n",
    "\n",
    "num=int(input(\"Enter the number:\"))\n",
    "print(\"The number is:\",hex(num))"
   ]
  },
  {
   "cell_type": "code",
   "execution_count": null,
   "id": "9f779d49",
   "metadata": {},
   "outputs": [],
   "source": []
  }
 ],
 "metadata": {
  "kernelspec": {
   "display_name": "Python 3 (ipykernel)",
   "language": "python",
   "name": "python3"
  },
  "language_info": {
   "codemirror_mode": {
    "name": "ipython",
    "version": 3
   },
   "file_extension": ".py",
   "mimetype": "text/x-python",
   "name": "python",
   "nbconvert_exporter": "python",
   "pygments_lexer": "ipython3",
   "version": "3.10.9"
  }
 },
 "nbformat": 4,
 "nbformat_minor": 5
}
