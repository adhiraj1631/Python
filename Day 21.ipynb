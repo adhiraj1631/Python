{
 "cells": [
  {
   "cell_type": "markdown",
   "id": "84286475",
   "metadata": {},
   "source": [
    "### Display Powers of 2 using Anonymous Function"
   ]
  },
  {
   "cell_type": "code",
   "execution_count": 1,
   "id": "2200a528",
   "metadata": {},
   "outputs": [
    {
     "data": {
      "text/plain": [
       "[False, True, True, False, True, True, True, True, True]"
      ]
     },
     "execution_count": 1,
     "metadata": {},
     "output_type": "execute_result"
    }
   ],
   "source": [
    "numbers=[1,2,4,5,6,8,20,12,10]\n",
    "list(map(lambda num:num%2==0,numbers))"
   ]
  },
  {
   "cell_type": "code",
   "execution_count": 2,
   "id": "ac611cec",
   "metadata": {},
   "outputs": [
    {
     "name": "stdout",
     "output_type": "stream",
     "text": [
      "[2, 4, 6, 8, 20, 12, 10]\n"
     ]
    }
   ],
   "source": [
    "numbers=[1,2,4,5,6,8,20,12,10]\n",
    "powers_of_2=list(filter(lambda num:num%2==0,numbers))\n",
    "print(powers_of_2)"
   ]
  },
  {
   "cell_type": "code",
   "execution_count": null,
   "id": "0d884245",
   "metadata": {},
   "outputs": [],
   "source": []
  }
 ],
 "metadata": {
  "kernelspec": {
   "display_name": "Python 3 (ipykernel)",
   "language": "python",
   "name": "python3"
  },
  "language_info": {
   "codemirror_mode": {
    "name": "ipython",
    "version": 3
   },
   "file_extension": ".py",
   "mimetype": "text/x-python",
   "name": "python",
   "nbconvert_exporter": "python",
   "pygments_lexer": "ipython3",
   "version": "3.10.9"
  }
 },
 "nbformat": 4,
 "nbformat_minor": 5
}
