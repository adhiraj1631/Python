{
 "cells": [
  {
   "cell_type": "markdown",
   "id": "b0abf9a1",
   "metadata": {},
   "source": [
    "### Find the Size (Resolution) of an Image"
   ]
  },
  {
   "cell_type": "code",
   "execution_count": 2,
   "id": "3a89501c",
   "metadata": {},
   "outputs": [
    {
     "name": "stdout",
     "output_type": "stream",
     "text": [
      "The resolution of the image is 0 x 28672\n"
     ]
    }
   ],
   "source": [
    "def jpeg_res(filename):\n",
    "   \"\"\"\"This function prints the resolution of the jpeg image file passed into it\"\"\"\n",
    "\n",
    "   # open image for reading in binary mode\n",
    "   with open(filename,'rb') as img_file:\n",
    "\n",
    "       # height of image (in 2 bytes) is at 164th position\n",
    "       img_file.seek(163)\n",
    "\n",
    "       # read the 2 bytes\n",
    "       a = img_file.read(2)\n",
    "\n",
    "       # calculate height\n",
    "       height = (a[0] << 8) + a[1]\n",
    "\n",
    "       # next 2 bytes is width\n",
    "       a = img_file.read(2)\n",
    "\n",
    "       # calculate width\n",
    "       width = (a[0] << 8) + a[1]\n",
    "\n",
    "   print(\"The resolution of the image is\",width,\"x\",height)\n",
    "\n",
    "jpeg_res(\"C:/Users/KIIT/Desktop/AD Lab/img2.jpg\")"
   ]
  },
  {
   "cell_type": "code",
   "execution_count": null,
   "id": "46d815e3",
   "metadata": {},
   "outputs": [],
   "source": []
  }
 ],
 "metadata": {
  "kernelspec": {
   "display_name": "Python 3 (ipykernel)",
   "language": "python",
   "name": "python3"
  },
  "language_info": {
   "codemirror_mode": {
    "name": "ipython",
    "version": 3
   },
   "file_extension": ".py",
   "mimetype": "text/x-python",
   "name": "python",
   "nbconvert_exporter": "python",
   "pygments_lexer": "ipython3",
   "version": "3.10.9"
  }
 },
 "nbformat": 4,
 "nbformat_minor": 5
}
