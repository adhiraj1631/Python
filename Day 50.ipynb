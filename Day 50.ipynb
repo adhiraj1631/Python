{
 "cells": [
  {
   "cell_type": "markdown",
   "id": "388f35ac",
   "metadata": {},
   "source": [
    "### Differentiate Between type() and isinstance()"
   ]
  },
  {
   "cell_type": "code",
   "execution_count": 1,
   "id": "ea5985aa",
   "metadata": {},
   "outputs": [
    {
     "name": "stdout",
     "output_type": "stream",
     "text": [
      "True\n",
      "False\n",
      "True\n",
      "True\n"
     ]
    }
   ],
   "source": [
    "class Polygon:\n",
    "    def sides_no(self):\n",
    "        pass\n",
    "\n",
    "class Triangle(Polygon):\n",
    "    def area(self):\n",
    "        pass\n",
    "\n",
    "obj_polygon = Polygon()\n",
    "obj_triangle = Triangle()\n",
    "\n",
    "print(type(obj_triangle) == Triangle)   \t# true\n",
    "print(type(obj_triangle) == Polygon)    \t# false\n",
    "\n",
    "print(isinstance(obj_polygon, Polygon)) \t# true\n",
    "print(isinstance(obj_triangle, Polygon))\t# true"
   ]
  },
  {
   "cell_type": "code",
   "execution_count": null,
   "id": "a4184aa9",
   "metadata": {},
   "outputs": [],
   "source": []
  }
 ],
 "metadata": {
  "kernelspec": {
   "display_name": "Python 3 (ipykernel)",
   "language": "python",
   "name": "python3"
  },
  "language_info": {
   "codemirror_mode": {
    "name": "ipython",
    "version": 3
   },
   "file_extension": ".py",
   "mimetype": "text/x-python",
   "name": "python",
   "nbconvert_exporter": "python",
   "pygments_lexer": "ipython3",
   "version": "3.10.9"
  }
 },
 "nbformat": 4,
 "nbformat_minor": 5
}
