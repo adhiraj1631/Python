{
 "cells": [
  {
   "cell_type": "markdown",
   "id": "2528433f",
   "metadata": {},
   "source": [
    "### Convert Km to Miles"
   ]
  },
  {
   "cell_type": "code",
   "execution_count": 1,
   "id": "0c7bc1e8",
   "metadata": {},
   "outputs": [
    {
     "name": "stdout",
     "output_type": "stream",
     "text": [
      "Enter the dist in km: 400\n",
      "The distance in miles is: 248.54840000000002 miles\n"
     ]
    }
   ],
   "source": [
    "km=int(input(\"Enter the dist in km: \"))\n",
    "miles=km*0.621371\n",
    "print(\"The distance in miles is:\",miles,\"miles\")"
   ]
  },
  {
   "cell_type": "code",
   "execution_count": null,
   "id": "d71cde35",
   "metadata": {},
   "outputs": [],
   "source": []
  }
 ],
 "metadata": {
  "kernelspec": {
   "display_name": "Python 3 (ipykernel)",
   "language": "python",
   "name": "python3"
  },
  "language_info": {
   "codemirror_mode": {
    "name": "ipython",
    "version": 3
   },
   "file_extension": ".py",
   "mimetype": "text/x-python",
   "name": "python",
   "nbconvert_exporter": "python",
   "pygments_lexer": "ipython3",
   "version": "3.10.9"
  }
 },
 "nbformat": 4,
 "nbformat_minor": 5
}
