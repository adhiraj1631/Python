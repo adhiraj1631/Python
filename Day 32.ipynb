{
 "cells": [
  {
   "cell_type": "markdown",
   "id": "b98a763a",
   "metadata": {},
   "source": [
    "### Sum of Natural Numbers"
   ]
  },
  {
   "cell_type": "code",
   "execution_count": 2,
   "id": "2f73b195",
   "metadata": {},
   "outputs": [
    {
     "name": "stdout",
     "output_type": "stream",
     "text": [
      "Enter the number:5\n",
      "15.0\n"
     ]
    }
   ],
   "source": [
    "def sum_natural_nos(n):\n",
    "    sum_nos=(n*(n+1))/2\n",
    "    print(sum_nos)\n",
    "n=sum_natural_nos(int(input(\"Enter the number:\")))"
   ]
  },
  {
   "cell_type": "code",
   "execution_count": null,
   "id": "4592660d",
   "metadata": {},
   "outputs": [],
   "source": []
  }
 ],
 "metadata": {
  "kernelspec": {
   "display_name": "Python 3 (ipykernel)",
   "language": "python",
   "name": "python3"
  },
  "language_info": {
   "codemirror_mode": {
    "name": "ipython",
    "version": 3
   },
   "file_extension": ".py",
   "mimetype": "text/x-python",
   "name": "python",
   "nbconvert_exporter": "python",
   "pygments_lexer": "ipython3",
   "version": "3.10.9"
  }
 },
 "nbformat": 4,
 "nbformat_minor": 5
}
