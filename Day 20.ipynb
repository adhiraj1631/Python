{
 "cells": [
  {
   "cell_type": "markdown",
   "id": "2746809a",
   "metadata": {},
   "source": [
    "### Sum of Natural Numbers"
   ]
  },
  {
   "cell_type": "code",
   "execution_count": 1,
   "id": "b6f8265e",
   "metadata": {},
   "outputs": [
    {
     "name": "stdout",
     "output_type": "stream",
     "text": [
      "Enter the lower limit:2\n",
      "Enter the higher limit:40\n",
      "820.0\n"
     ]
    }
   ],
   "source": [
    "start=int(input(\"Enter the lower limit:\"))\n",
    "end=int(input(\"Enter the higher limit:\"))\n",
    "sum_natural_nos=(end*(end+1))/2\n",
    "print(sum_natural_nos)"
   ]
  },
  {
   "cell_type": "code",
   "execution_count": null,
   "id": "3554cf43",
   "metadata": {},
   "outputs": [],
   "source": []
  }
 ],
 "metadata": {
  "kernelspec": {
   "display_name": "Python 3 (ipykernel)",
   "language": "python",
   "name": "python3"
  },
  "language_info": {
   "codemirror_mode": {
    "name": "ipython",
    "version": 3
   },
   "file_extension": ".py",
   "mimetype": "text/x-python",
   "name": "python",
   "nbconvert_exporter": "python",
   "pygments_lexer": "ipython3",
   "version": "3.10.9"
  }
 },
 "nbformat": 4,
 "nbformat_minor": 5
}
