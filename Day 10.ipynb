{
 "cells": [
  {
   "cell_type": "markdown",
   "id": "7769d7de",
   "metadata": {},
   "source": [
    "### Check if a number is positive,negative or 0"
   ]
  },
  {
   "cell_type": "code",
   "execution_count": 1,
   "id": "fdea1443",
   "metadata": {},
   "outputs": [
    {
     "name": "stdout",
     "output_type": "stream",
     "text": [
      "Enter the value of a: 3\n",
      "The number is a positive number.\n"
     ]
    }
   ],
   "source": [
    "a=int(input(\"Enter the value of a: \"))\n",
    "if a>0:\n",
    "    print(\"The number is a positive number.\")\n",
    "elif a<0:\n",
    "    print(\"The number is a negative number.\")\n",
    "else:\n",
    "    print(\"The number is 0\")"
   ]
  },
  {
   "cell_type": "code",
   "execution_count": null,
   "id": "750e141a",
   "metadata": {},
   "outputs": [],
   "source": []
  }
 ],
 "metadata": {
  "kernelspec": {
   "display_name": "Python 3 (ipykernel)",
   "language": "python",
   "name": "python3"
  },
  "language_info": {
   "codemirror_mode": {
    "name": "ipython",
    "version": 3
   },
   "file_extension": ".py",
   "mimetype": "text/x-python",
   "name": "python",
   "nbconvert_exporter": "python",
   "pygments_lexer": "ipython3",
   "version": "3.10.9"
  }
 },
 "nbformat": 4,
 "nbformat_minor": 5
}
