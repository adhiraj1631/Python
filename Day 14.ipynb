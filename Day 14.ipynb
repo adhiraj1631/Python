{
 "cells": [
  {
   "cell_type": "markdown",
   "id": "a93721fa",
   "metadata": {},
   "source": [
    "### Check if a number is a Prime number"
   ]
  },
  {
   "cell_type": "code",
   "execution_count": 1,
   "id": "d38fef59",
   "metadata": {},
   "outputs": [
    {
     "name": "stdout",
     "output_type": "stream",
     "text": [
      "Enter the numbers: 21\n",
      "Not Prime\n"
     ]
    }
   ],
   "source": [
    "a=int(input(\"Enter the numbers: \"))\n",
    "isPrime=True\n",
    "if a==2:\n",
    "    print(\"Prime number\")\n",
    "elif a>1:\n",
    "    for i in range(2,a):\n",
    "        if a%i==0:\n",
    "            isPrime=False\n",
    "            break\n",
    "    if isPrime==True:\n",
    "        print(\"Prime\")\n",
    "    else:\n",
    "        print(\"Not Prime\")"
   ]
  },
  {
   "cell_type": "code",
   "execution_count": null,
   "id": "5a728115",
   "metadata": {},
   "outputs": [],
   "source": []
  }
 ],
 "metadata": {
  "kernelspec": {
   "display_name": "Python 3 (ipykernel)",
   "language": "python",
   "name": "python3"
  },
  "language_info": {
   "codemirror_mode": {
    "name": "ipython",
    "version": 3
   },
   "file_extension": ".py",
   "mimetype": "text/x-python",
   "name": "python",
   "nbconvert_exporter": "python",
   "pygments_lexer": "ipython3",
   "version": "3.10.9"
  }
 },
 "nbformat": 4,
 "nbformat_minor": 5
}
