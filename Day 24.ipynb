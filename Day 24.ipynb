{
 "cells": [
  {
   "cell_type": "markdown",
   "id": "5627d28d",
   "metadata": {},
   "source": [
    "### Find ASCII value of a char"
   ]
  },
  {
   "cell_type": "code",
   "execution_count": 1,
   "id": "f2e5c5d0",
   "metadata": {},
   "outputs": [
    {
     "name": "stdout",
     "output_type": "stream",
     "text": [
      "Enter the char:c\n",
      "The ASCII value of c is 99\n"
     ]
    }
   ],
   "source": [
    "char =input(\"Enter the char:\") \n",
    "print(\"The ASCII value of \" + char + \" is\", ord(char))\n"
   ]
  },
  {
   "cell_type": "markdown",
   "id": "23f8984b",
   "metadata": {},
   "source": [
    "ord is a function that is used to find the ASCII values in Python"
   ]
  },
  {
   "cell_type": "code",
   "execution_count": null,
   "id": "bd021f64",
   "metadata": {},
   "outputs": [],
   "source": []
  }
 ],
 "metadata": {
  "kernelspec": {
   "display_name": "Python 3 (ipykernel)",
   "language": "python",
   "name": "python3"
  },
  "language_info": {
   "codemirror_mode": {
    "name": "ipython",
    "version": 3
   },
   "file_extension": ".py",
   "mimetype": "text/x-python",
   "name": "python",
   "nbconvert_exporter": "python",
   "pygments_lexer": "ipython3",
   "version": "3.10.9"
  }
 },
 "nbformat": 4,
 "nbformat_minor": 5
}
