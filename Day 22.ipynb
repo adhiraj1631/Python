{
 "cells": [
  {
   "cell_type": "markdown",
   "id": "6388d6f1",
   "metadata": {},
   "source": [
    "### Find numbers divisible by another number"
   ]
  },
  {
   "cell_type": "code",
   "execution_count": 1,
   "id": "2ce5629b",
   "metadata": {},
   "outputs": [
    {
     "name": "stdout",
     "output_type": "stream",
     "text": [
      "Enter the number by which you want to divide:3\n",
      "[3, 6, 9, 12, 15]\n"
     ]
    }
   ],
   "source": [
    "numbers=[1,2,3,6,9,12,7,15]\n",
    "divisor=int(input(\"Enter the number by which you want to divide:\"))\n",
    "divisible_num=list(filter(lambda num:num%divisor==0,numbers))\n",
    "print(divisible_num)"
   ]
  },
  {
   "cell_type": "code",
   "execution_count": null,
   "id": "37aea35c",
   "metadata": {},
   "outputs": [],
   "source": []
  }
 ],
 "metadata": {
  "kernelspec": {
   "display_name": "Python 3 (ipykernel)",
   "language": "python",
   "name": "python3"
  },
  "language_info": {
   "codemirror_mode": {
    "name": "ipython",
    "version": 3
   },
   "file_extension": ".py",
   "mimetype": "text/x-python",
   "name": "python",
   "nbconvert_exporter": "python",
   "pygments_lexer": "ipython3",
   "version": "3.10.9"
  }
 },
 "nbformat": 4,
 "nbformat_minor": 5
}
