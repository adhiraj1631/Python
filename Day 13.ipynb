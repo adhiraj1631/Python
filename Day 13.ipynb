{
 "cells": [
  {
   "cell_type": "markdown",
   "id": "f9aab784",
   "metadata": {},
   "source": [
    "### Find the largest among 3 numbers"
   ]
  },
  {
   "cell_type": "code",
   "execution_count": 1,
   "id": "092f9b7c",
   "metadata": {},
   "outputs": [
    {
     "name": "stdout",
     "output_type": "stream",
     "text": [
      "Enter the numbers: 3\n",
      "Enter the numbers: 4\n",
      "Enter the numbers: 5\n",
      "C is the largest\n"
     ]
    }
   ],
   "source": [
    "a=int(input(\"Enter the numbers: \"))\n",
    "b=int(input(\"Enter the numbers: \"))\n",
    "c=int(input(\"Enter the numbers: \"))\n",
    "if a>b and a>c:\n",
    "    print(\"A is the largest\")\n",
    "elif b>a and b>c:\n",
    "    print(\"B is the largest\")\n",
    "else:\n",
    "    print(\"C is the largest\")"
   ]
  },
  {
   "cell_type": "code",
   "execution_count": null,
   "id": "7096b4f6",
   "metadata": {},
   "outputs": [],
   "source": []
  }
 ],
 "metadata": {
  "kernelspec": {
   "display_name": "Python 3 (ipykernel)",
   "language": "python",
   "name": "python3"
  },
  "language_info": {
   "codemirror_mode": {
    "name": "ipython",
    "version": 3
   },
   "file_extension": ".py",
   "mimetype": "text/x-python",
   "name": "python",
   "nbconvert_exporter": "python",
   "pygments_lexer": "ipython3",
   "version": "3.10.9"
  }
 },
 "nbformat": 4,
 "nbformat_minor": 5
}
