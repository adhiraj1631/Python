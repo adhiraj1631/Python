{
 "cells": [
  {
   "cell_type": "markdown",
   "id": "30b16e8b",
   "metadata": {},
   "source": [
    "### Find Factors of a Number"
   ]
  },
  {
   "cell_type": "code",
   "execution_count": 1,
   "id": "c27009c2",
   "metadata": {},
   "outputs": [
    {
     "name": "stdout",
     "output_type": "stream",
     "text": [
      "Enter the range:40\n",
      "Enter the range:36\n",
      "The factors of  36 are:  1\n",
      "The factors of  36 are:  2\n",
      "The factors of  36 are:  3\n",
      "The factors of  36 are:  4\n",
      "The factors of  36 are:  6\n",
      "The factors of  36 are:  9\n",
      "The factors of  36 are:  12\n",
      "The factors of  36 are:  18\n",
      "The factors of  36 are:  36\n"
     ]
    }
   ],
   "source": [
    "limit=int(input(\"Enter the range:\"))\n",
    "num=int(input(\"Enter the range:\"))\n",
    "for i in range(1,limit):\n",
    "    if num%i==0:\n",
    "        print(\"The factors of \",num,\"are: \",i)"
   ]
  },
  {
   "cell_type": "code",
   "execution_count": null,
   "id": "4ea10cfc",
   "metadata": {},
   "outputs": [],
   "source": []
  }
 ],
 "metadata": {
  "kernelspec": {
   "display_name": "Python 3 (ipykernel)",
   "language": "python",
   "name": "python3"
  },
  "language_info": {
   "codemirror_mode": {
    "name": "ipython",
    "version": 3
   },
   "file_extension": ".py",
   "mimetype": "text/x-python",
   "name": "python",
   "nbconvert_exporter": "python",
   "pygments_lexer": "ipython3",
   "version": "3.10.9"
  }
 },
 "nbformat": 4,
 "nbformat_minor": 5
}
