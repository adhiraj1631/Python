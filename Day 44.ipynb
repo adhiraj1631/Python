{
 "cells": [
  {
   "cell_type": "markdown",
   "id": "364d1b8e",
   "metadata": {},
   "source": [
    "### Find Hash of File"
   ]
  },
  {
   "cell_type": "code",
   "execution_count": 1,
   "id": "115b7696",
   "metadata": {},
   "outputs": [
    {
     "name": "stdout",
     "output_type": "stream",
     "text": [
      "cbc7913103cc2120f978490abe759f347df962bd\n"
     ]
    }
   ],
   "source": [
    "import hashlib\n",
    "\n",
    "def hash_file(filepath):\n",
    "   \"\"\"\"This function returns the SHA-1 hash\n",
    "   of the file passed into it\"\"\"\n",
    "\n",
    "   # make a hash object\n",
    "   h = hashlib.sha1()\n",
    "\n",
    "   # open file for reading in binary mode\n",
    "   with open(filepath,'rb') as file:\n",
    "\n",
    "       # loop till the end of the file\n",
    "       chunk = 0\n",
    "       while chunk != b'':\n",
    "           # read only 1024 bytes at a time\n",
    "           chunk = file.read(1024)\n",
    "           h.update(chunk)\n",
    "\n",
    "   # return the hex representation of digest\n",
    "   return h.hexdigest()\n",
    "\n",
    "message = hash_file(\"C:/Users/KIIT/Desktop/AD Lab/AD ML Lab/Lab1/Iris_dataset Lab1.ipynb\")    # Use path of the file\n",
    "print(message)"
   ]
  },
  {
   "cell_type": "code",
   "execution_count": null,
   "id": "67705d35",
   "metadata": {},
   "outputs": [],
   "source": []
  }
 ],
 "metadata": {
  "kernelspec": {
   "display_name": "Python 3 (ipykernel)",
   "language": "python",
   "name": "python3"
  },
  "language_info": {
   "codemirror_mode": {
    "name": "ipython",
    "version": 3
   },
   "file_extension": ".py",
   "mimetype": "text/x-python",
   "name": "python",
   "nbconvert_exporter": "python",
   "pygments_lexer": "ipython3",
   "version": "3.10.9"
  }
 },
 "nbformat": 4,
 "nbformat_minor": 5
}
