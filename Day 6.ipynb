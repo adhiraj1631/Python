{
 "cells": [
  {
   "cell_type": "markdown",
   "id": "eb4524d9",
   "metadata": {},
   "source": [
    "### Solve a quadratic equation"
   ]
  },
  {
   "cell_type": "code",
   "execution_count": 1,
   "id": "d233558c",
   "metadata": {},
   "outputs": [
    {
     "name": "stdout",
     "output_type": "stream",
     "text": [
      "Enter the numbers: 16\n",
      "Enter the numbers: 25\n",
      "Enter the numbers: 10\n",
      "-320.0\n",
      "-80.0\n"
     ]
    }
   ],
   "source": [
    "a=int(input(\"Enter the numbers: \"))\n",
    "b=int(input(\"Enter the numbers: \"))\n",
    "c=int(input(\"Enter the numbers: \"))\n",
    "x=(-b+(b**2-4*a*c))/2*a\n",
    "y=(-b-(b**2-4*a*c))/2*a\n",
    "print(x)\n",
    "print(y)"
   ]
  },
  {
   "cell_type": "code",
   "execution_count": null,
   "id": "14895105",
   "metadata": {},
   "outputs": [],
   "source": []
  }
 ],
 "metadata": {
  "kernelspec": {
   "display_name": "Python 3 (ipykernel)",
   "language": "python",
   "name": "python3"
  },
  "language_info": {
   "codemirror_mode": {
    "name": "ipython",
    "version": 3
   },
   "file_extension": ".py",
   "mimetype": "text/x-python",
   "name": "python",
   "nbconvert_exporter": "python",
   "pygments_lexer": "ipython3",
   "version": "3.10.9"
  }
 },
 "nbformat": 4,
 "nbformat_minor": 5
}
